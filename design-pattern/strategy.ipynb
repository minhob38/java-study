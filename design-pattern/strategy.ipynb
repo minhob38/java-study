{
 "cells": [
  {
   "cell_type": "code",
   "execution_count": 12,
   "id": "d5b69bf5",
   "metadata": {},
   "outputs": [],
   "source": [
    "\"\"\"\n",
    "=== strategy ===\n",
    "strategy별로 class를 만들고, context class에서 stagegy class를 composition하여 method를 정의합니다.\n",
    "- 구성: 상속이 아닌 다른 class들끼리 composition을 통하여 기능을 확장합니다.\n",
    "- 위임: context class의 method를 strategy class에 위임합니다.\n",
    "\"\"\"\n",
    "from abc import *\n",
    "\n",
    "class MapContext():    \n",
    "    def __init__(self, route_strategy):\n",
    "        self.route_strategy = route_strategy\n",
    "    \n",
    "    def route(self):\n",
    "        self.route_strategy.route();\n",
    "        \n",
    "        \n",
    "class RouteStrategy():\n",
    "    @abstractmethod\n",
    "    def route(self):\n",
    "        pass\n",
    "    \n",
    "class CarRouteStrategy(RouteStrategy):\n",
    "    def route(self):\n",
    "        print(\"자동차 지도\")\n",
    "        \n",
    "class BikeRouteStrategy(RouteStrategy):\n",
    "    def route(self):\n",
    "        print(\"자전거 지도\")\n"
   ]
  },
  {
   "cell_type": "code",
   "execution_count": 15,
   "id": "98089b5b",
   "metadata": {},
   "outputs": [],
   "source": [
    "# stragegy 생성\n",
    "car_route_strategy = CarRouteStrategy()\n",
    "bike_route_strategy = BikeRouteStrategy()\n",
    "\n",
    "# strategy 설정\n",
    "car_map = MapContext(car_route_strategy)\n",
    "bike_map = MapContext(bike_route_strategy)"
   ]
  },
  {
   "cell_type": "code",
   "execution_count": 16,
   "id": "d7de4f4d",
   "metadata": {},
   "outputs": [
    {
     "name": "stdout",
     "output_type": "stream",
     "text": [
      "자동차 지도\n",
      "자전거 지도\n"
     ]
    }
   ],
   "source": [
    "car_map.route()\n",
    "bike_map.route()"
   ]
  },
  {
   "cell_type": "code",
   "execution_count": null,
   "id": "b8685fea",
   "metadata": {},
   "outputs": [],
   "source": [
    "\"\"\"\n",
    "startegy가 아닌 template method로 설계한다면 subclass를 만들어야 합니다.\n",
    "- 모든 subclass에서 abstract method를 정의해야합니다.\n",
    "- subclass가 많아질수 있습니다.\n",
    "\"\"\""
   ]
  },
  {
   "cell_type": "code",
   "execution_count": 23,
   "id": "0dded96f",
   "metadata": {},
   "outputs": [],
   "source": [
    "class MapContext():    \n",
    "    @abstractmethod\n",
    "    def route(self):\n",
    "        pass\n",
    "        \n",
    "class CarMapContext(MapContext):\n",
    "    def route(self):\n",
    "        print(\"자동차 지도\")\n",
    "        \n",
    "class BikeMapContext(MapContext):\n",
    "    def route(self):\n",
    "        print(\"자전거 지도\")"
   ]
  },
  {
   "cell_type": "code",
   "execution_count": 24,
   "id": "76a91a1d",
   "metadata": {},
   "outputs": [],
   "source": [
    "car_map = CarMapContext()\n",
    "bike_map = BikeMapContext()"
   ]
  },
  {
   "cell_type": "code",
   "execution_count": 25,
   "id": "eda17989",
   "metadata": {},
   "outputs": [
    {
     "name": "stdout",
     "output_type": "stream",
     "text": [
      "자동차 지도\n",
      "자전거 지도\n"
     ]
    }
   ],
   "source": [
    "car_map.route()\n",
    "bike_map.route()"
   ]
  }
 ],
 "metadata": {
  "kernelspec": {
   "display_name": "Python 3 (ipykernel)",
   "language": "python",
   "name": "python3"
  },
  "language_info": {
   "codemirror_mode": {
    "name": "ipython",
    "version": 3
   },
   "file_extension": ".py",
   "mimetype": "text/x-python",
   "name": "python",
   "nbconvert_exporter": "python",
   "pygments_lexer": "ipython3",
   "version": "3.9.13"
  }
 },
 "nbformat": 4,
 "nbformat_minor": 5
}
