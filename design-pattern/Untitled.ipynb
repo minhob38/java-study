{
 "cells": [
  {
   "cell_type": "code",
   "execution_count": 2,
   "id": "8dec491a",
   "metadata": {},
   "outputs": [
    {
     "name": "stdout",
     "output_type": "stream",
     "text": [
      "\n",
      "=== design pattern ===\n"
     ]
    }
   ],
   "source": [
    "\"\"\"\n",
    "design pattern\n",
    "\"\"\"\n",
    "print(\"\\n=== design pattern ===\")"
   ]
  },
  {
   "cell_type": "code",
   "execution_count": null,
   "id": "7701c0ed",
   "metadata": {},
   "outputs": [],
   "source": [
    "\"\"\"\n",
    "=== template method ===\n",
    "template이 정해진 class를 만듭니다.\n",
    "- 공통 method: child class에서 공통으로 사용되는 method는 parent class에서 구현합니다.\n",
    "- 개별 method: child class에서 개별로 사용되는 method는 parent class에서 abstract class로 정의하고, child class에서 구현합니다.\n",
    "\"\"\"\n",
    "from abc import *\n",
    "\n",
    "class Animal():    \n",
    "    def __init__(self, name):\n",
    "        self.name = name\n",
    "    \n",
    "    def breath(self):\n",
    "        print(\"===3\")\n",
    "        \n",
    "    @abstractmethod\n",
    "    def voice(self) -> None:\n",
    "        pass\n"
   ]
  },
  {
   "cell_type": "code",
   "execution_count": null,
   "id": "363e3d89",
   "metadata": {},
   "outputs": [],
   "source": [
    "class Dog(Animal):\n",
    "    def voice(self):\n",
    "        print(\"멍멍\")\n",
    "        \n",
    "class Cat(Animal):\n",
    "    def voice(self):\n",
    "        print(\"야옹\")"
   ]
  },
  {
   "cell_type": "code",
   "execution_count": null,
   "id": "4d1b49e0",
   "metadata": {},
   "outputs": [],
   "source": [
    "dog = Dog(\"바둑이\")\n",
    "cat = Cat(\"야옹이\")\n",
    "dog.breath()\n",
    "cat.breath()\n",
    "dog.voice()\n",
    "cat.voice()\n",
    "\n"
   ]
  },
  {
   "cell_type": "code",
   "execution_count": null,
   "id": "00770af8",
   "metadata": {},
   "outputs": [],
   "source": []
  },
  {
   "cell_type": "code",
   "execution_count": null,
   "id": "6bdae56e",
   "metadata": {},
   "outputs": [],
   "source": []
  }
 ],
 "metadata": {
  "kernelspec": {
   "display_name": "Python 3 (ipykernel)",
   "language": "python",
   "name": "python3"
  },
  "language_info": {
   "codemirror_mode": {
    "name": "ipython",
    "version": 3
   },
   "file_extension": ".py",
   "mimetype": "text/x-python",
   "name": "python",
   "nbconvert_exporter": "python",
   "pygments_lexer": "ipython3",
   "version": "3.9.13"
  }
 },
 "nbformat": 4,
 "nbformat_minor": 5
}
