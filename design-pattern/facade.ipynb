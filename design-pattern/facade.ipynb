{
 "cells": [
  {
   "cell_type": "code",
   "execution_count": 17,
   "id": "8f08cd07",
   "metadata": {},
   "outputs": [],
   "source": [
    "\"\"\"\n",
    "=== facade ===\n",
    "다른 class들의 집합에 대한 간단한 interface를 제공합니다.\n",
    "- interface를 제공하지 않으면, 다른 class들에 대해 알아야합니다.\n",
    "\"\"\"\n",
    "# 다른 class - a        \n",
    "class Pedal():\n",
    "    def accelerate(self):\n",
    "        print(\"가속\")\n",
    "        \n",
    "    def brake(self):\n",
    "        print(\"멈춤\")\n",
    "\n",
    "# 다른 class - b        \n",
    "class Gear():\n",
    "    def set_n(self):\n",
    "        print(\"N단\")\n",
    "        \n",
    "    def set_p(self):\n",
    "        print(\"D단\")\n",
    "        \n",
    "    def set_d(self):\n",
    "        print(\"P단\")\n",
    "        \n",
    "    def set_r(self):\n",
    "        print(\"R단\")"
   ]
  },
  {
   "cell_type": "code",
   "execution_count": 18,
   "id": "698e80a9",
   "metadata": {},
   "outputs": [],
   "source": [
    "# 다른 class들의 집합에 대한 interface를 만듭니다.\n",
    "class CarFacade():\n",
    "    def __init__(self, gear, pedal):\n",
    "        self.gear = gear\n",
    "        self.pedal = pedal\n",
    "    \n",
    "    def park(self):\n",
    "        self.pedal.brake();\n",
    "        self.gear.set_r();\n",
    "        self.pedal.accelerate();\n",
    "        self.pedal.brake();\n",
    "        self.gear.set_p();"
   ]
  },
  {
   "cell_type": "code",
   "execution_count": 20,
   "id": "4d141b13",
   "metadata": {},
   "outputs": [
    {
     "name": "stdout",
     "output_type": "stream",
     "text": [
      "=== w facade ===\n",
      "멈춤\n",
      "R단\n",
      "가속\n",
      "멈춤\n",
      "D단\n",
      "=== w/o facade ===\n",
      "멈춤\n",
      "R단\n",
      "가속\n",
      "멈춤\n",
      "D단\n"
     ]
    }
   ],
   "source": [
    "gear = Gear()\n",
    "pedal = Pedal()\n",
    "\n",
    "# facade 패턴을 사용하면, facade.park의 간단한 interface로 해당 기능을 실행시킬 수 있습니다.\n",
    "print(\"=== w facade ===\")\n",
    "facade = Facade(gear, pedal)\n",
    "facade.park()\n",
    "\n",
    "# facade 패턴을 사용하지않으면, gear, pedal class들을 조합하여 해당 기능을 실행시킬 수 있습니다.\n",
    "print(\"=== w/o facade ===\")\n",
    "pedal.brake();\n",
    "gear.set_r();\n",
    "pedal.accelerate();\n",
    "pedal.brake();\n",
    "gear.set_p();"
   ]
  }
 ],
 "metadata": {
  "kernelspec": {
   "display_name": "Python 3 (ipykernel)",
   "language": "python",
   "name": "python3"
  },
  "language_info": {
   "codemirror_mode": {
    "name": "ipython",
    "version": 3
   },
   "file_extension": ".py",
   "mimetype": "text/x-python",
   "name": "python",
   "nbconvert_exporter": "python",
   "pygments_lexer": "ipython3",
   "version": "3.9.13"
  }
 },
 "nbformat": 4,
 "nbformat_minor": 5
}
