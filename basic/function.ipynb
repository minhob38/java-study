{
 "cells": [
  {
   "cell_type": "code",
   "execution_count": 1,
   "id": "6d6f4b73",
   "metadata": {},
   "outputs": [
    {
     "name": "stdout",
     "output_type": "stream",
     "text": [
      "\n",
      "=== 함수 ===\n"
     ]
    }
   ],
   "source": [
    "\"\"\"\n",
    "함수는 입력과 출력 간 관계의 표현식이며, 또다른 의미로는 하나의 단위로 실행되는 문입니다.\n",
    "\"\"\"\n",
    "print(\"\\n=== 함수 ===\")"
   ]
  },
  {
   "cell_type": "code",
   "execution_count": 2,
   "id": "b59aedee",
   "metadata": {},
   "outputs": [
    {
     "name": "stdout",
     "output_type": "stream",
     "text": [
      "\n",
      "=== 함수 선언 ===\n",
      "None\n",
      "python django\n",
      "6\n"
     ]
    }
   ],
   "source": [
    "\"\"\"\n",
    "함수 선언\n",
    "- def [함수이름] ([매개변수]): 함수 body\n",
    "- 함수가 실행되기 전에 함수가 선언되어야 합니다.\n",
    "\"\"\"\n",
    "# 함수 선언\n",
    "print(\"\\n=== 함수 선언 ===\")\n",
    "\n",
    "def void():\n",
    "    # return이 없으면 None을 반환합니다.\n",
    "    pass\n",
    "\n",
    "def sign(s):\n",
    "    print(s)\n",
    "\n",
    "def add(m, n):\n",
    "    return m + n\n",
    "\n",
    "print(void()) \n",
    "sign(\"python django\")\n",
    "print(add(1, 5))"
   ]
  },
  {
   "cell_type": "code",
   "execution_count": 3,
   "id": "a001ce1b",
   "metadata": {},
   "outputs": [
    {
     "name": "stdout",
     "output_type": "stream",
     "text": [
      "\n",
      "=== 함수 매개변수 ===\n",
      "5\n",
      "3\n"
     ]
    }
   ],
   "source": [
    "\"\"\"\n",
    "함수 매개변수\n",
    "- python는 인자를 복사하고 매개변수에 할당하여, 함수를 실행합니다.\n",
    "- 기본형 매개변수: 기본형(primitive type)은 값이 복사됩니다.\n",
    "- 참조형 매개변수: 참조형(reference type)은 주소가 복사됩니다.\n",
    "\"\"\"\n",
    "# 함수 매개변수\n",
    "print(\"\\n=== 함수 매개변수 ===\")\n",
    "d = { \"m\": 5 }\n",
    "\n",
    "def change_primitive(m):\n",
    "    m = 3\n",
    "\n",
    "def change_reference(d):\n",
    "    d[\"m\"] = 3\n",
    "\n",
    "change_primitive(d[\"m\"])\n",
    "print(d[\"m\"])\n",
    "\n",
    "change_reference(d)\n",
    "print(d[\"m\"])"
   ]
  },
  {
   "cell_type": "code",
   "execution_count": 4,
   "id": "f601558d",
   "metadata": {},
   "outputs": [
    {
     "name": "stdout",
     "output_type": "stream",
     "text": [
      "\n",
      "=== args / kwargs ===\n",
      "('python', 'django')\n",
      "{'m': 'python', 'n': 'django'}\n"
     ]
    }
   ],
   "source": [
    "\"\"\"\n",
    "args / kwargs\n",
    "- args: * 키워드를 통해 함수 안에서 입력인자를 튜플로 받을 수 있습니다.\n",
    "- kwargs: ** 키워드를 통해 함수 안에서 입력인자를 딕셔너리로 받을 수 있습니다.\n",
    "- 참조형 매개변수: 참조형(reference type)은 주소가 복사됩니다.\n",
    "\"\"\"\n",
    "# args / kwargs\n",
    "print(\"\\n=== args / kwargs ===\")\n",
    "def func_args(*args):\n",
    "    print(args)\n",
    "\n",
    "def func_kwargs(**kwargs):\n",
    "    print(kwargs)\n",
    "    \n",
    "func_args(\"python\", \"django\")\n",
    "func_kwargs(m=\"python\", n=\"django\")"
   ]
  },
  {
   "cell_type": "code",
   "execution_count": 5,
   "id": "e4edc7ae",
   "metadata": {},
   "outputs": [
    {
     "name": "stdout",
     "output_type": "stream",
     "text": [
      "decorator...\n",
      "newfunc...\n",
      "python django :)\n"
     ]
    }
   ],
   "source": [
    "\"\"\"\n",
    "decorator\n",
    "- decorator를 통해 기존 함수에 새로운 코드를 더할 수 있습니다.\n",
    "- decorator는 아래와 같이 새로운 함수를 반환하는것과 같습니다.\n",
    "    def orgfunc(m, n):\n",
    "        ...\n",
    "    newfunc = decorator(orgfunc)\n",
    "    newfunc(m, n)\n",
    "\"\"\"\n",
    "\n",
    "# decorator 만들기\n",
    "def decorator(orgfunc):\n",
    "    print(\"decorator...\")\n",
    "    def newfunc(m, n):\n",
    "        print(\"newfunc...\")\n",
    "        return orgfunc(m, n)\n",
    "    return newfunc\n",
    "\n",
    "\n",
    "@decorator\n",
    "def func(m, n):\n",
    "    return f\"{m} {n} :)\"\n",
    "\n",
    "print(func(\"python\", \"django\"))"
   ]
  },
  {
   "cell_type": "code",
   "execution_count": 6,
   "id": "6fb70ef8",
   "metadata": {},
   "outputs": [
    {
     "name": "stdout",
     "output_type": "stream",
     "text": [
      "m:L\n",
      "n:E\n",
      "p:G\n"
     ]
    }
   ],
   "source": [
    "\"\"\"\n",
    "LEGB은 변수가 참조하는 scope의 규칙입니다.\n",
    "L: Local로 함수 scope입니다.\n",
    "E: Enclosed function locals로 inner 함수를 감싸는 outer 함수의 scope입니다.\n",
    "G: Global로 .py scope입니다.\n",
    "B: Built-in으로 python built-in 함수의 scope입니다.\n",
    "\"\"\"\n",
    "m = \"m:G\"\n",
    "n = \"n:G\"\n",
    "p = \"p:G\"\n",
    "\n",
    "def outer_func():\n",
    "    m = \"m:E\"\n",
    "    n = \"n:E\"\n",
    "    \n",
    "    def inner_func():\n",
    "        m = \"m:L\"\n",
    "        print(m) # L\n",
    "        print(n) # E\n",
    "        print(p) # G\n",
    "    \n",
    "    return inner_func\n",
    "\n",
    "func = outer_func()\n",
    "func()"
   ]
  },
  {
   "cell_type": "code",
   "execution_count": 7,
   "id": "56f2224f",
   "metadata": {},
   "outputs": [
    {
     "name": "stdout",
     "output_type": "stream",
     "text": [
      "<class 'tuple'>\n",
      "2\n",
      "(<cell at 0x7fbe09ab0220: str object at 0x7fbe09aabdf0>, <cell at 0x7fbe09ab0b80: str object at 0x7fbe09aabe30>)\n",
      "python closure\n",
      "django server\n"
     ]
    }
   ],
   "source": [
    "\"\"\"\n",
    "closure는 inner 함수가 outer 함수를 참조할때, outer 함수가 종료되도 참조하는 outer scope의 변수들이 메모리에 남아있는 것을 의미합니다.\n",
    "(__closure__에 저장됩니다.)\n",
    "\"\"\"\n",
    "def outer_func():\n",
    "    m = \"python closure\"\n",
    "    n = \"django server\"\n",
    "    p = \"flask server\"\n",
    "    \n",
    "    def inner_func():\n",
    "        print(m)\n",
    "        print(n)\n",
    "    \n",
    "    return inner_func\n",
    "\n",
    "func = outer_func()\n",
    "\n",
    "# print(func)\n",
    "print(type(func.__closure__))\n",
    "print(len(func.__closure__))\n",
    "print(func.__closure__)\n",
    "print(func.__closure__[0].cell_contents)\n",
    "print(func.__closure__[1].cell_contents)"
   ]
  },
  {
   "cell_type": "code",
   "execution_count": 10,
   "id": "28d09628",
   "metadata": {},
   "outputs": [
    {
     "name": "stdout",
     "output_type": "stream",
     "text": [
      "6\n",
      "6\n",
      "True\n",
      "False\n",
      "True\n",
      "False\n"
     ]
    }
   ],
   "source": [
    "\"\"\"\n",
    "lambda function을 통해 간단하게 함수를 선언할 수 있습니다.\n",
    "- lamda 함수는 한줄로 선언되어야 합니다.\n",
    "- lamda [매개변수]: 함수 실행문\n",
    "\"\"\"\n",
    "# 일반 함수\n",
    "def add(m, n):\n",
    "    return m + n\n",
    "print(add(1,5))\n",
    "# lambda 함수\n",
    "add = lambda m, n: m + n # ()는 넣지 않습니다.\n",
    "print(add(1,5))\n",
    "\n",
    "# 일반 함수 (조건문)\n",
    "def getisodd(m):\n",
    "    if m % 2:\n",
    "        return False\n",
    "    else:\n",
    "        return True\n",
    "print(getisodd(2))\n",
    "print(getisodd(3))\n",
    "# lambda 함수 (조건문)\n",
    "getisodd = lambda m: False if m % 2 else True\n",
    "print(getisodd(2))\n",
    "print(getisodd(3))"
   ]
  },
  {
   "cell_type": "code",
   "execution_count": 9,
   "id": "39549033",
   "metadata": {},
   "outputs": [],
   "source": [
    "# generator"
   ]
  }
 ],
 "metadata": {
  "kernelspec": {
   "display_name": "Python 3",
   "language": "python",
   "name": "python3"
  },
  "language_info": {
   "codemirror_mode": {
    "name": "ipython",
    "version": 3
   },
   "file_extension": ".py",
   "mimetype": "text/x-python",
   "name": "python",
   "nbconvert_exporter": "python",
   "pygments_lexer": "ipython3",
   "version": "3.8.8"
  }
 },
 "nbformat": 4,
 "nbformat_minor": 5
}
