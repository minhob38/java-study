{
 "cells": [
  {
   "cell_type": "code",
   "execution_count": 1,
   "id": "6d6f4b73",
   "metadata": {},
   "outputs": [
    {
     "name": "stdout",
     "output_type": "stream",
     "text": [
      "\n",
      "=== 반복문 ===\n"
     ]
    }
   ],
   "source": [
    "\"\"\"\n",
    "반복문이란 특정조건까지 반복되는 구문을 의미합니다.\n",
    "\"\"\"\n",
    "print(\"\\n=== 반복문 ===\")"
   ]
  },
  {
   "cell_type": "code",
   "execution_count": 2,
   "id": "b59aedee",
   "metadata": {},
   "outputs": [
    {
     "name": "stdout",
     "output_type": "stream",
     "text": [
      "\n",
      "=== for문(list) ===\n",
      "i는 1\n",
      "i는 2\n",
      "i는 3\n",
      "i는 4\n",
      "i는 5\n",
      "\n",
      "=== for문(tuple) ===\n",
      "i는 a\n",
      "i는 b\n",
      "i는 c\n",
      "i는 d\n",
      "i는 e\n",
      "\n",
      "=== for문(문자열) ===\n",
      "i는 a\n",
      "i는 b\n",
      "i는 c\n",
      "i는 d\n",
      "i는 e\n",
      "\n",
      "=== for문(다인자) ===\n",
      "python의 server는 django ^_^\n",
      "nodejs의 server는 express : )\n",
      "java의 server는 spring @_@\n",
      "python의 server는 django\n",
      "nodejs의 server는 express\n",
      "java의 server는 spring\n"
     ]
    }
   ],
   "source": [
    "\"\"\"\n",
    "for문\n",
    "(in 연산이 참인 구문을 실행하며, 실행될 구문은 들여쓰기(띄어쓰기)로 코딩되어야 합니다.)\n",
    "\"\"\"\n",
    "# for문(list)\n",
    "print(\"\\n=== for문(list) ===\")\n",
    "l = [1, 2, 3, 4, 5]\n",
    "for i in l:\n",
    "    print(f\"i는 {i}\")\n",
    "\n",
    "# for문(tuple)\n",
    "print(\"\\n=== for문(tuple) ===\")\n",
    "t = (\"a\", \"b\", \"c\", \"d\", \"e\")\n",
    "for i in t:\n",
    "    print(f\"i는 {i}\")\n",
    "    \n",
    "# for문(문자열)\n",
    "print(\"\\n=== for문(문자열) ===\")\n",
    "s = \"abcde\"\n",
    "for i in s:\n",
    "    print(f\"i는 {i}\")\n",
    "    \n",
    "# for문(다인자)\n",
    "print(\"\\n=== for문(다인자) ===\")\n",
    "m = [(\"python\", \"django\", \"^_^\"), (\"nodejs\", \"express\", \": )\"), (\"java\", \"spring\", \"@_@\")]\n",
    "for (lang, server, emoji) in m:\n",
    "    print(f\"{lang}의 server는 {server} {emoji}\")\n",
    "\n",
    "d = {\"python\": \"django\", \"nodejs\": \"express\", \"java\": \"spring\"}\n",
    "for (key, value) in d.items():\n",
    "    print(f\"{key}의 server는 {value}\")"
   ]
  },
  {
   "cell_type": "code",
   "execution_count": 3,
   "id": "7dc7d678",
   "metadata": {},
   "outputs": [
    {
     "name": "stdout",
     "output_type": "stream",
     "text": [
      "\n",
      "=== while문 ===\n",
      "i는 0\n",
      "i는 1\n",
      "i는 2\n",
      "i는 3\n",
      "i는 4\n",
      "i는 5\n",
      "\n",
      "=== while ~ else문 ===\n",
      "i는 0\n",
      "i는 1\n",
      "i는 2\n",
      "i는 3\n",
      "i는 4\n",
      "i는 5\n",
      "i는 5보다 큽니다.\n"
     ]
    }
   ],
   "source": [
    "\"\"\"\n",
    "while문\n",
    "(조건식이 참이면 구문을 실행하며, 실행될 구문은 들여쓰기(띄어쓰기)로 코딩되어야 합니다.)\n",
    "\"\"\"\n",
    "# while문\n",
    "print(\"\\n=== while문 ===\")\n",
    "i = 0\n",
    "while(i < 6):\n",
    "    print(f\"i는 {i}\")\n",
    "    i += 1\n",
    "    \n",
    "# while ~ else문\n",
    "print(\"\\n=== while ~ else문 ===\")\n",
    "i = 0\n",
    "while(i < 6):\n",
    "    print(f\"i는 {i}\")\n",
    "    i += 1\n",
    "else:\n",
    "    print(\"i는 5보다 큽니다.\")"
   ]
  },
  {
   "cell_type": "code",
   "execution_count": 4,
   "id": "57d6cd02",
   "metadata": {},
   "outputs": [
    {
     "name": "stdout",
     "output_type": "stream",
     "text": [
      "\n",
      "=== break ===\n",
      "1\n",
      "2\n"
     ]
    }
   ],
   "source": [
    "\"\"\"\n",
    "break\n",
    "(break문을 감싸고 있는 반복문을 탈출합니다.)\n",
    "\"\"\"\n",
    "# break\n",
    "print(\"\\n=== break ===\")\n",
    "for i in [1, 2, 3, 4,5]:\n",
    "    if i == 3: break\n",
    "    print(i)"
   ]
  },
  {
   "cell_type": "code",
   "execution_count": 5,
   "id": "fc648977",
   "metadata": {},
   "outputs": [
    {
     "name": "stdout",
     "output_type": "stream",
     "text": [
      "\n",
      "=== continue ===\n",
      "1\n",
      "2\n",
      "4\n",
      "5\n"
     ]
    }
   ],
   "source": [
    "\"\"\"\n",
    "break\n",
    "(continue문을 감싸고 있는 반복문 조건식으로 이동합니다.)\n",
    "\"\"\"\n",
    "# break\n",
    "print(\"\\n=== continue ===\")\n",
    "for i in [1, 2, 3, 4,5]:\n",
    "    if i == 3: continue\n",
    "    print(i)"
   ]
  },
  {
   "cell_type": "code",
   "execution_count": 6,
   "id": "5a80b815",
   "metadata": {},
   "outputs": [
    {
     "name": "stdout",
     "output_type": "stream",
     "text": [
      "\n",
      "=== pass ===\n"
     ]
    }
   ],
   "source": [
    "\"\"\"\n",
    "pass\n",
    "(반복문을 실행시키지 않습니다.)\n",
    "\"\"\"\n",
    "# break\n",
    "print(\"\\n=== pass ===\")\n",
    "for i in [1, 2, 3, 4,5]:\n",
    "    pass"
   ]
  },
  {
   "cell_type": "code",
   "execution_count": 7,
   "id": "7fc89910",
   "metadata": {},
   "outputs": [
    {
     "name": "stdout",
     "output_type": "stream",
     "text": [
      "\n",
      "=== range ===\n",
      "0\n",
      "1\n",
      "2\n",
      "3\n",
      "4\n",
      "0\n",
      "2\n",
      "4\n",
      "6\n",
      "8\n",
      "\n",
      "=== zip ===\n",
      "(1, 'a')\n",
      "(2, 'b')\n",
      "(3, 'c')\n",
      "True False\n",
      "True False\n",
      "True False\n"
     ]
    }
   ],
   "source": [
    "\"\"\"\n",
    "range: 반복가능한 객체를 만듭니다.\n",
    "zip: 반복가능한 객체를 묶어 튜플을 반환합니다.\n",
    "in: 자료형에 포함되는지 boolean을 반환합니다.\n",
    "\"\"\"\n",
    "# range\n",
    "print(\"\\n=== range ===\")\n",
    "for i in range(5):\n",
    "    print(i)\n",
    "    \n",
    "for i in range(0, 10, 2):\n",
    "    print(i)\n",
    "\n",
    "# zip\n",
    "print(\"\\n=== zip ===\")\n",
    "a = [1, 2, 3]\n",
    "b = ['a', 'b', 'c']\n",
    "\n",
    "for item in zip(a, b):\n",
    "    print(item)\n",
    "\n",
    "# in\n",
    "print(\"a\" in \"abc\", \"d\" in \"abc\")\n",
    "print(\"a\" in [\"a\", \"b\", \"c\"], \"d\" in [\"a\", \"b\", \"c\"])\n",
    "print(1 in range(0, 3), 3 in range(0, 3))"
   ]
  }
 ],
 "metadata": {
  "kernelspec": {
   "display_name": "Python 3",
   "language": "python",
   "name": "python3"
  },
  "language_info": {
   "codemirror_mode": {
    "name": "ipython",
    "version": 3
   },
   "file_extension": ".py",
   "mimetype": "text/x-python",
   "name": "python",
   "nbconvert_exporter": "python",
   "pygments_lexer": "ipython3",
   "version": "3.8.8"
  }
 },
 "nbformat": 4,
 "nbformat_minor": 5
}
