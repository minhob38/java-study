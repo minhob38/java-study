{
 "cells": [
  {
   "cell_type": "code",
   "execution_count": 30,
   "id": "6d6f4b73",
   "metadata": {},
   "outputs": [
    {
     "name": "stdout",
     "output_type": "stream",
     "text": [
      "\n",
      "=== os ===\n"
     ]
    }
   ],
   "source": [
    "\"\"\"\n",
    "os\n",
    "\"\"\"\n",
    "print(\"\\n=== os ===\")"
   ]
  },
  {
   "cell_type": "code",
   "execution_count": 31,
   "id": "12dbd900",
   "metadata": {},
   "outputs": [
    {
     "name": "stdout",
     "output_type": "stream",
     "text": [
      "\n",
      "=== os ===\n"
     ]
    }
   ],
   "source": [
    "\"\"\"\n",
    "os\n",
    "\"\"\"\n",
    "print(\"\\n=== os ===\")"
   ]
  },
  {
   "cell_type": "code",
   "execution_count": null,
   "id": "045e3e82",
   "metadata": {},
   "outputs": [],
   "source": [
    "\"\"\"\n",
    "file\n",
    "\"\"\"\n",
    "print(\"\\n=== os ===\")"
   ]
  },
  {
   "cell_type": "code",
   "execution_count": 5,
   "id": "b59aedee",
   "metadata": {},
   "outputs": [
    {
     "name": "stdout",
     "output_type": "stream",
     "text": [
      "\n",
      "=== sys ===\n",
      "\n",
      "=== sys.argv ===\n",
      "['/opt/anaconda3/lib/python3.8/site-packages/ipykernel_launcher.py', '-f', '/Users/minho/Library/Jupyter/runtime/kernel-ba8b377e-2e71-467d-b9e7-21fc6128c7a7.json']\n",
      "\n",
      "=== sys.exit ===\n",
      "\n",
      "=== sys.path ===\n",
      "['/Users/minho/Desktop/python-Study/basic', '/opt/anaconda3/lib/python38.zip', '/opt/anaconda3/lib/python3.8', '/opt/anaconda3/lib/python3.8/lib-dynload', '', '/opt/anaconda3/lib/python3.8/site-packages', '/opt/anaconda3/lib/python3.8/site-packages/aeosa', '/opt/anaconda3/lib/python3.8/site-packages/locket-0.2.1-py3.8.egg', '/opt/anaconda3/lib/python3.8/site-packages/IPython/extensions', '/Users/minho/.ipython']\n"
     ]
    }
   ],
   "source": [
    "\"\"\"\n",
    "sys\n",
    "- python interpreter에 인자전달 및 실행제어를 하는 library입니다.\n",
    "- document: https://docs.python.org/ko/3/library/sys.html\n",
    "\"\"\"\n",
    "# sys\n",
    "print(\"\\n=== sys ===\")\n",
    "import sys \n",
    "\n",
    "# sys.argv에 해당 module을 실행할때 넘겨주는 인자들의 list가 담겨져있습니다.\n",
    "print(\"\\n=== sys.argv ===\")\n",
    "# e.g: python django.py server -> [\"django.py\", \"server\"]\n",
    "print(sys.argv) \n",
    "\n",
    "# sys.exit는 module의 실행을 종료합니다.\n",
    "print(\"\\n=== sys.exit ===\")\n",
    "# sys.exit()\n",
    "\n",
    "# sys.path는 python module들이 저장되어있는 위치를 보여줍니다.\n",
    "print(\"\\n=== sys.path ===\")\n",
    "print(sys.path)\n",
    "\n"
   ]
  },
  {
   "cell_type": "code",
   "execution_count": 32,
   "id": "fc92bcfc",
   "metadata": {},
   "outputs": [
    {
     "name": "stdout",
     "output_type": "stream",
     "text": [
      "\n",
      "=== subprocess ===\n",
      "\n",
      "=== subprocess.call ===\n",
      "0\n",
      "1\n",
      "\n",
      "=== subprocess.check_call ===\n",
      "0\n",
      "\n",
      "=== subprocess.check_output ===\n",
      "b'python\\n'\n",
      "\n",
      "=== subprocess.Popen ===\n",
      "<subprocess.Popen object at 0x7fa4b0e92e20>\n"
     ]
    }
   ],
   "source": [
    "\"\"\"\n",
    "subprocess\n",
    "- 새로운 process에서 shell script를 실행하는 library입니다.\n",
    "- document: https://docs.python.org/ko/3/library/subprocess.html\n",
    "\"\"\"\n",
    "# subprocess\n",
    "print(\"\\n=== subprocess ===\")\n",
    "import subprocess \n",
    "\n",
    "# subprocess.call은 간단한 shell script를 실행합니다. (normal: 0, error: 1)\n",
    "print(\"\\n=== subprocess.call ===\")\n",
    "out = subprocess.call([\"echo\", \"python\"])\n",
    "print(out)\n",
    "out = subprocess.call([\"ls\", \"error\"])\n",
    "print(out)\n",
    "\n",
    "# subprocess.check_call 간단한 shell script를 실행하며, error가 생기면 예외를 발생합니다.\n",
    "print(\"\\n=== subprocess.check_call ===\")\n",
    "out = subprocess.check_call([\"echo\", \"python\"])\n",
    "print(out)\n",
    "\n",
    "# subprocess.check_output 간단한 shell script를 실행하고 출력을 반환합니다.\n",
    "print(\"\\n=== subprocess.check_output ===\")\n",
    "out = subprocess.check_output([\"echo\", \"python\"])\n",
    "print(out)\n",
    "\n",
    "# subprocess.Popen 유연하게 shell script를 실행합니다.\n",
    "print(\"\\n=== subprocess.Popen ===\")\n",
    "out = subprocess.Popen([\"echo\", \"python\"])\n",
    "print(out)"
   ]
  },
  {
   "cell_type": "code",
   "execution_count": null,
   "id": "9b7008a2",
   "metadata": {},
   "outputs": [],
   "source": []
  }
 ],
 "metadata": {
  "kernelspec": {
   "display_name": "Python 3",
   "language": "python",
   "name": "python3"
  },
  "language_info": {
   "codemirror_mode": {
    "name": "ipython",
    "version": 3
   },
   "file_extension": ".py",
   "mimetype": "text/x-python",
   "name": "python",
   "nbconvert_exporter": "python",
   "pygments_lexer": "ipython3",
   "version": "3.8.8"
  }
 },
 "nbformat": 4,
 "nbformat_minor": 5
}
