{
 "cells": [
  {
   "cell_type": "code",
   "execution_count": 1,
   "id": "7b99a4e3",
   "metadata": {},
   "outputs": [],
   "source": [
    "#game_list = [0, 1, 2]"
   ]
  },
  {
   "cell_type": "code",
   "execution_count": 2,
   "id": "41ee12e6",
   "metadata": {},
   "outputs": [],
   "source": [
    "def display_game(game_list):\n",
    "    print('here is the current list')\n",
    "    print(game_list)"
   ]
  },
  {
   "cell_type": "code",
   "execution_count": 3,
   "id": "be01a54d",
   "metadata": {},
   "outputs": [],
   "source": [
    "#display_game(game_list)"
   ]
  },
  {
   "cell_type": "code",
   "execution_count": 4,
   "id": "aa84554b",
   "metadata": {},
   "outputs": [],
   "source": [
    "def position_choice():\n",
    "    choice = 'wrong'\n",
    "\n",
    "    while choice not in ['0','1','2']:\n",
    "        choice = input('pick a position (0,1,2): ') \n",
    "        \n",
    "        if choice not in ['0','1','2']:\n",
    "            # clear_output()\n",
    "            print('invalid choice :(')\n",
    "        \n",
    "    return int(choice) "
   ]
  },
  {
   "cell_type": "code",
   "execution_count": 5,
   "id": "326432c7",
   "metadata": {},
   "outputs": [],
   "source": [
    "#position_choice()"
   ]
  },
  {
   "cell_type": "code",
   "execution_count": 6,
   "id": "f90e33f6",
   "metadata": {},
   "outputs": [],
   "source": [
    "def replacement_choice(game_list,position):\n",
    "    user_placement = input(\"type a string to place at position: \")\n",
    "    \n",
    "    game_list[position] = user_placement\n",
    "    \n",
    "    return game_list"
   ]
  },
  {
   "cell_type": "code",
   "execution_count": 7,
   "id": "d2f72840",
   "metadata": {},
   "outputs": [],
   "source": [
    "#replacement_choice(game_list,1)"
   ]
  },
  {
   "cell_type": "code",
   "execution_count": 8,
   "id": "9e65f85f",
   "metadata": {},
   "outputs": [],
   "source": [
    "def gameon_choice():\n",
    "    choice = 'wrong'\n",
    "\n",
    "    while choice not in ['y','n']:\n",
    "        choice = input('keep playing (y or n): ') \n",
    "        \n",
    "        if choice not in ['y','n']:\n",
    "            # clear_output()\n",
    "            print('choose y on n :(')\n",
    "            \n",
    "    if choice == 'y':\n",
    "        return True\n",
    "    else:\n",
    "        return False\n",
    "        \n",
    "    return int(choice) "
   ]
  },
  {
   "cell_type": "code",
   "execution_count": 9,
   "id": "8ddcb2a3",
   "metadata": {},
   "outputs": [],
   "source": [
    "#gameon_choice()"
   ]
  },
  {
   "cell_type": "code",
   "execution_count": null,
   "id": "1689bef1",
   "metadata": {},
   "outputs": [
    {
     "name": "stdout",
     "output_type": "stream",
     "text": [
      "here is the current list\n",
      "[0, 1, 2]\n"
     ]
    }
   ],
   "source": [
    "game_on = True\n",
    "game_list = [0,1,2]\n",
    "\n",
    "while game_on:\n",
    "    display_game(game_list)\n",
    "    \n",
    "    position = position_choice()\n",
    "    \n",
    "    game_list = replacement_choice(game_list, position)\n",
    "    \n",
    "    display_game(game_list)\n",
    "    \n",
    "    game_on = gameon_choice()"
   ]
  },
  {
   "cell_type": "code",
   "execution_count": null,
   "id": "4b7b0198",
   "metadata": {},
   "outputs": [],
   "source": []
  }
 ],
 "metadata": {
  "kernelspec": {
   "display_name": "Python 3",
   "language": "python",
   "name": "python3"
  },
  "language_info": {
   "codemirror_mode": {
    "name": "ipython",
    "version": 3
   },
   "file_extension": ".py",
   "mimetype": "text/x-python",
   "name": "python",
   "nbconvert_exporter": "python",
   "pygments_lexer": "ipython3",
   "version": "3.8.8"
  }
 },
 "nbformat": 4,
 "nbformat_minor": 5
}
