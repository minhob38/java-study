{
 "cells": [
  {
   "cell_type": "code",
   "execution_count": 1,
   "id": "6d6f4b73",
   "metadata": {},
   "outputs": [
    {
     "name": "stdout",
     "output_type": "stream",
     "text": [
      "\n",
      "=== 예외처리 ===\n"
     ]
    }
   ],
   "source": [
    "\"\"\"\n",
    "try-except 통해 예외처리를 합니다.\n",
    "- try: 정상적으로 동작하는 코드 block 입니다.\n",
    "- except: try에서 예외가 발생하면 처리하는 코드 block 입니다.\n",
    "\"\"\"\n",
    "print(\"\\n=== 예외처리 ===\")"
   ]
  },
  {
   "cell_type": "code",
   "execution_count": 2,
   "id": "b59aedee",
   "metadata": {},
   "outputs": [
    {
     "name": "stdout",
     "output_type": "stream",
     "text": [
      "\n",
      "=== try-except ===\n",
      "try 시작\n",
      "ZeroDivisionError 예외\n"
     ]
    }
   ],
   "source": [
    "\"\"\"\n",
    "try-except\n",
    "- try에서 예외발생 시, 해당 예외에 맞는 except를 순서대로 찾아 실행합니다.\n",
    "- Exception은 모든 예외를 처리할 수 있습니다.\n",
    "\"\"\"\n",
    "print(\"\\n=== try-except ===\")\n",
    "\n",
    "l = [1, 2, 3, 4, 5]\n",
    "\n",
    "try:\n",
    "    print(\"try 시작\")\n",
    "    print(5/0)\n",
    "    print(l[5]);\n",
    "    print(\"try 종료\")\n",
    "except IndexError:\n",
    "    print(\"IndexError 예외\")\n",
    "except ZeroDivisionError:\n",
    "    print(\"ZeroDivisionError 예외\")\n",
    "except Exception as e:\n",
    "    print(\"Exception 예외\")"
   ]
  },
  {
   "cell_type": "code",
   "execution_count": 3,
   "id": "71724ef1",
   "metadata": {},
   "outputs": [
    {
     "name": "stdout",
     "output_type": "stream",
     "text": [
      "\n",
      "=== 예외정보 보기 ===\n",
      "try 시작\n",
      "ZeroDivisionError 예외\n",
      "division by zero\n",
      "<class 'ZeroDivisionError'>\n"
     ]
    }
   ],
   "source": [
    "\"\"\"\n",
    "예외정보 보기\n",
    "as 키워드로 해당 예외를 변수로 받아 정보를 볼 수 있습니다.\n",
    "\"\"\"\n",
    "# 함수 선언\n",
    "print(\"\\n=== 예외정보 보기 ===\")\n",
    "\n",
    "l = [1, 2, 3, 4, 5]\n",
    "\n",
    "try:\n",
    "    print(\"try 시작\")\n",
    "    print(5/0)\n",
    "    print(l[5]);\n",
    "    print(\"try 종료\")\n",
    "except IndexError as e:\n",
    "    print(\"IndexError 예외\")\n",
    "    print(e)\n",
    "    print(type(e))\n",
    "except ZeroDivisionError as e:\n",
    "    print(\"ZeroDivisionError 예외\")\n",
    "    print(e)\n",
    "    print(type(e))\n",
    "except Exception as e:\n",
    "    print(\"Exception 예외\")\n",
    "    print(e)\n",
    "    print(type(e))"
   ]
  },
  {
   "cell_type": "code",
   "execution_count": 4,
   "id": "a001ce1b",
   "metadata": {},
   "outputs": [
    {
     "name": "stdout",
     "output_type": "stream",
     "text": [
      "\n",
      "=== 예외 합치기 ===\n",
      "try 시작\n",
      "IndexError 또는 ZeroDivisionError 예외\n",
      "division by zero\n",
      "<class 'ZeroDivisionError'>\n"
     ]
    }
   ],
   "source": [
    "\"\"\"\n",
    "예외 합치기\n",
    "()에 예외들을 담아, 하나의 except에서 여러 예외를 처리하도록 합니다.\n",
    "\"\"\"\n",
    "print(\"\\n=== 예외 합치기 ===\")\n",
    "\n",
    "l = [1, 2, 3, 4, 5]\n",
    "\n",
    "try:\n",
    "    print(\"try 시작\")\n",
    "    print(5/0)\n",
    "    print(l[5]);\n",
    "    print(\"try 종료\")\n",
    "except (IndexError, ZeroDivisionError) as e:\n",
    "    print(\"IndexError 또는 ZeroDivisionError 예외\")\n",
    "    print(e)\n",
    "    print(type(e))\n",
    "except Exception as e:\n",
    "    print(\"Exception 예외\")\n",
    "    print(e)\n",
    "    print(type(e))"
   ]
  },
  {
   "cell_type": "code",
   "execution_count": 5,
   "id": "39549033",
   "metadata": {},
   "outputs": [
    {
     "name": "stdout",
     "output_type": "stream",
     "text": [
      "\n",
      "=== 예외 발생시키기 ===\n",
      "raise 시작\n",
      "IndexError 또는 ZeroDivisionError 예외\n",
      "exception : (\n",
      "<class 'ZeroDivisionError'>\n",
      "raise 시작\n",
      "Exception 예외\n",
      "exception : (\n",
      "<class 'Exception'>\n"
     ]
    }
   ],
   "source": [
    "\"\"\"\n",
    "예외 발생시키기\n",
    "raise 키워드를 통해, 예외를 발생시킬 수 있습니다.\n",
    "\"\"\"\n",
    "print(\"\\n=== 예외 발생시키기 ===\")\n",
    "\n",
    "try:\n",
    "    print(\"raise 시작\")\n",
    "    raise ZeroDivisionError(\"exception : (\");\n",
    "    print(\"raise 종료\")\n",
    "except (IndexError, ZeroDivisionError) as e:\n",
    "    print(\"IndexError 또는 ZeroDivisionError 예외\")\n",
    "    print(e)\n",
    "    print(type(e))\n",
    "except Exception as e:\n",
    "    print(\"Exception 예외\")\n",
    "    print(e)\n",
    "    print(type(e))\n",
    "    \n",
    "try:\n",
    "    print(\"raise 시작\")\n",
    "    raise Exception(\"exception : (\");\n",
    "    print(\"raise 종료\")\n",
    "except (IndexError, ZeroDivisionError) as e:\n",
    "    print(\"IndexError 또는 ZeroDivisionError 예외\")\n",
    "    print(e)\n",
    "    print(type(e))\n",
    "except Exception as e:\n",
    "    print(\"Exception 예외\")\n",
    "    print(e)\n",
    "    print(type(e))"
   ]
  },
  {
   "cell_type": "code",
   "execution_count": 6,
   "id": "77732694",
   "metadata": {},
   "outputs": [
    {
     "name": "stdout",
     "output_type": "stream",
     "text": [
      "\n",
      "=== finally ===\n",
      "raise 시작\n",
      "Exception 예외\n",
      "exception : (\n",
      "<class 'ZeroDivisionError'>\n",
      "finally 실행\n"
     ]
    }
   ],
   "source": [
    "\"\"\"\n",
    "finally: try, catch와 관계없이 실행되는 코드 block 입니다.\n",
    "\"\"\"\n",
    "print(\"\\n=== finally ===\")\n",
    "\n",
    "try:\n",
    "    print(\"raise 시작\")\n",
    "    raise ZeroDivisionError(\"exception : (\");\n",
    "    print(\"raise 종료\")\n",
    "except Exception as e:\n",
    "    print(\"Exception 예외\")\n",
    "    print(e)\n",
    "    print(type(e))\n",
    "finally:\n",
    "    print(\"finally 실행\")"
   ]
  },
  {
   "cell_type": "code",
   "execution_count": 7,
   "id": "7d87fe7b",
   "metadata": {},
   "outputs": [
    {
     "name": "stdout",
     "output_type": "stream",
     "text": [
      "\n",
      "=== else ===\n",
      "raise 시작\n",
      "Exception 예외\n",
      "exception : (\n",
      "<class 'ZeroDivisionError'>\n",
      "try 실행\n",
      "else 실행\n"
     ]
    }
   ],
   "source": [
    "\"\"\"\n",
    "else: try에 예외가 발생하지 않으면, 실행되는 코드 block 입니다.\n",
    "\"\"\"\n",
    "print(\"\\n=== else ===\")\n",
    "\n",
    "try:\n",
    "    print(\"raise 시작\")\n",
    "    raise ZeroDivisionError(\"exception : (\");\n",
    "    print(\"raise 종료\")\n",
    "except Exception as e:\n",
    "    print(\"Exception 예외\")\n",
    "    print(e)\n",
    "    print(type(e))\n",
    "else:\n",
    "    print(\"else 실행\")\n",
    "    \n",
    "try:\n",
    "    print(\"try 실행\")\n",
    "except Exception as e:\n",
    "    print(\"Exception 예외\")\n",
    "    print(e)\n",
    "    print(type(e))\n",
    "else:\n",
    "    print(\"else 실행\")"
   ]
  },
  {
   "cell_type": "code",
   "execution_count": 8,
   "id": "46554bf5",
   "metadata": {},
   "outputs": [
    {
     "name": "stdout",
     "output_type": "stream",
     "text": [
      "\n",
      "=== 예외 만들기 ===\n",
      "raise 시작\n",
      "MyException 예외\n",
      "exception : (\n",
      "<class '__main__.MyException'>\n"
     ]
    }
   ],
   "source": [
    "\"\"\"\n",
    "예외 만들기: Exception class를 상속받아, 새로운 예외를 만들 수 있습니다.\n",
    "\"\"\"\n",
    "print(\"\\n=== 예외 만들기 ===\")\n",
    "\n",
    "class MyException(Exception):\n",
    "    pass\n",
    "\n",
    "try:\n",
    "    print(\"raise 시작\")\n",
    "    raise MyException(\"exception : (\");\n",
    "    print(\"raise 종료\")\n",
    "except MyException as e:\n",
    "    print(\"MyException 예외\")\n",
    "    print(e)\n",
    "    print(type(e))\n",
    "except Exception as e:\n",
    "    print(\"Exception 예외\")\n",
    "    print(e)\n",
    "    print(type(e))"
   ]
  }
 ],
 "metadata": {
  "kernelspec": {
   "display_name": "Python 3",
   "language": "python",
   "name": "python3"
  },
  "language_info": {
   "codemirror_mode": {
    "name": "ipython",
    "version": 3
   },
   "file_extension": ".py",
   "mimetype": "text/x-python",
   "name": "python",
   "nbconvert_exporter": "python",
   "pygments_lexer": "ipython3",
   "version": "3.8.8"
  }
 },
 "nbformat": 4,
 "nbformat_minor": 5
}
