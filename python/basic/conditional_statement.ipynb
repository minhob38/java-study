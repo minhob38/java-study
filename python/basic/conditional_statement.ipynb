{
 "cells": [
  {
   "cell_type": "code",
   "execution_count": 1,
   "id": "6d6f4b73",
   "metadata": {},
   "outputs": [
    {
     "name": "stdout",
     "output_type": "stream",
     "text": [
      "\n",
      "=== 자료형 ===\n"
     ]
    }
   ],
   "source": [
    "\"\"\"\n",
    "조건문이란 특정 조건에서 실행 되는 구문을 의미합니다.\n",
    "\"\"\"\n",
    "print(\"\\n=== 조건문 ===\")"
   ]
  },
  {
   "cell_type": "code",
   "execution_count": 22,
   "id": "b59aedee",
   "metadata": {},
   "outputs": [
    {
     "name": "stdout",
     "output_type": "stream",
     "text": [
      "\n",
      "=== 단일 if문 ===\n",
      "n은 3과 같습니다.\n",
      "n은 3과 다릅니다.\n",
      "n은 3과 다릅니다.\n",
      "s는 python의 문자열입니다.\n",
      "s는 python의 문자열이 아닙니다.\n",
      "s는 python의 문자열이 아닙니다.\n",
      "a는 l의 요소입니다.\n",
      "a는 t의 요소입니다.\n",
      "\n",
      "=== if ~ else문 ===\n",
      "n은 3과 같습니다.\n",
      "\n",
      "=== if ~ elif문 ===\n",
      "n은 5와 같습니다.\n",
      "\n",
      "=== if ~ elif ~ else문 ===\n",
      "n은 3과 5가 아닙니다.\n"
     ]
    }
   ],
   "source": [
    "\"\"\"\n",
    "if문\n",
    "(if 조건이 참이면 실행됩니다.)\n",
    "\"\"\"\n",
    "# 단일 if문\n",
    "print(\"\\n=== 단일 if문 ===\")\n",
    "n = 3\n",
    "if n == 3:\n",
    "    print(\"n은 3과 같습니다.\")\n",
    "    \n",
    "n = 5\n",
    "if not n == 3:\n",
    "    print(\"n은 3과 다릅니다.\")\n",
    "    \n",
    "n = 5\n",
    "if n != 3:\n",
    "    print(\"n은 3과 다릅니다.\")\n",
    "    \n",
    "s = \"py\"\n",
    "if s in \"python\":\n",
    "    print(\"s는 python의 문자열입니다.\")\n",
    "\n",
    "s = \"pyh\"\n",
    "if not s in \"python\":\n",
    "    print(\"s는 python의 문자열이 아닙니다.\")\n",
    "    \n",
    "s = \"pyh\"\n",
    "if s not in \"python\":\n",
    "    print(\"s는 python의 문자열이 아닙니다.\")\n",
    "\n",
    "l = [\"a\", 5, True]\n",
    "if \"a\" in l:\n",
    "    print(\"a는 l의 요소입니다.\")\n",
    "\n",
    "t = (\"a\", 5, True)\n",
    "if \"a\" in l:\n",
    "    print(\"a는 t의 요소입니다.\")    \n",
    "\n",
    "# if ~ else문\n",
    "print(\"\\n=== if ~ else문 ===\")\n",
    "\n",
    "n = 3\n",
    "if n == 3:\n",
    "    print(\"n은 3과 같습니다.\")\n",
    "else:\n",
    "    print(\"n은 3이 아닙니다.\")\n",
    "\n",
    "\n",
    "# if ~ elif문\n",
    "print(\"\\n=== if ~ elif문 ===\")\n",
    "\n",
    "n = 5\n",
    "if n == 3:\n",
    "    print(\"n은 3과 같습니다.\")\n",
    "elif n == 5:\n",
    "    print(\"n은 5와 같습니다.\")\n",
    "    \n",
    "# if ~ elif ~ else문\n",
    "print(\"\\n=== if ~ elif ~ else문 ===\")\n",
    "\n",
    "n = 4\n",
    "if n == 3:\n",
    "    print(\"n은 3과 같습니다.\")\n",
    "elif n == 5:\n",
    "    print(\"n은 5와 같습니다.\")\n",
    "else:\n",
    "    print(\"n은 3과 5가 아닙니다.\")"
   ]
  },
  {
   "cell_type": "code",
   "execution_count": 23,
   "id": "7dc7d678",
   "metadata": {},
   "outputs": [
    {
     "name": "stdout",
     "output_type": "stream",
     "text": [
      "\n",
      "=== 조건부 표현식 ===\n",
      "n은 3입니다\n",
      "n은 3이 아닙니다.\n"
     ]
    }
   ],
   "source": [
    "\"\"\"\n",
    "조건부 표현식\n",
    "(조건에 맞는 코드를 실행하고 실행결과를 반환합니다.)\n",
    "\"\"\"\n",
    "# 조건부 표현식\n",
    "print(\"\\n=== 조건부 표현식 ===\")\n",
    "n = 3\n",
    "print(\"n은 3입니다\") if n == 3 else print(\"n은 3이 아닙니다.\")\n",
    "\n",
    "n = 5\n",
    "s = \"n은 3입니다.\" if n == 3 else \"n은 3이 아닙니다.\"\n",
    "print(s)"
   ]
  }
 ],
 "metadata": {
  "kernelspec": {
   "display_name": "Python 3",
   "language": "python",
   "name": "python3"
  },
  "language_info": {
   "codemirror_mode": {
    "name": "ipython",
    "version": 3
   },
   "file_extension": ".py",
   "mimetype": "text/x-python",
   "name": "python",
   "nbconvert_exporter": "python",
   "pygments_lexer": "ipython3",
   "version": "3.8.8"
  }
 },
 "nbformat": 4,
 "nbformat_minor": 5
}
