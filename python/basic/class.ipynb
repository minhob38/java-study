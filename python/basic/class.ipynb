{
 "cells": [
  {
   "cell_type": "code",
   "execution_count": 1,
   "id": "dc3646dd",
   "metadata": {},
   "outputs": [
    {
     "name": "stdout",
     "output_type": "stream",
     "text": [
      "\n",
      "=== class ===\n"
     ]
    }
   ],
   "source": [
    "\"\"\"\n",
    "객체지향프로그래밍이란 프로그램을 단순한 명령어의 집합으로 바라보는 기존 컴퓨터 프로그래밍과 달리, 관계성 있는 객체들의 집합으로 바라보는 프로그램 설계입니다.\n",
    "객체지향프로그래밍을 위해서 객체의 특성을 담고 있는 클래스라는 추상적 개념을 정의합니다. 이러한 클래스에 구체적인 특성들을 정의해줌으로써 실존적 개념인 인스턴스를 얻을 수 있습니다.\n",
    "\"\"\"\n",
    "print(\"\\n=== class ===\")"
   ]
  },
  {
   "cell_type": "code",
   "execution_count": 2,
   "id": "bd4406e0",
   "metadata": {},
   "outputs": [
    {
     "name": "stdout",
     "output_type": "stream",
     "text": [
      "\n",
      "=== class 만들기 ===\n",
      "myCar의 engine/color는 1.4t blue\n",
      "myCar의 wheel은 4\n",
      "Car의 wheel은 4\n",
      "빵빵\n",
      "빵빵\n",
      "해당차량은 4 gasoline 1.4t blue 입니다.\n",
      "해당차량은 4 gasoline 입니다.\n",
      "해당차량은 4 gasoline 입니다.\n",
      "\n",
      "=== class inheritance ===\n",
      "mycar의 shape는 rectangle\n",
      "Vehicle의 haswheel은 True\n",
      "Car의 haswheel은 True\n",
      "mycar의 haswheel은 True\n",
      "덜덜덜\n",
      "덜덜덜\n",
      "덜덜덜\n",
      "해당 vehicle은 rectangle 입니다.\n",
      "부르릉\n",
      "와와앙\n",
      "<class '__main__.Car'> <__main__.Car object at 0x7fbddd9a8eb0>\n"
     ]
    }
   ],
   "source": [
    "\"\"\"\n",
    "=== class 만들기 ===\n",
    "class 변수\n",
    "- instance 변수: instance에서 접근이 가능합니다.\n",
    "- class 변수: class/instance에서 접근이 가능합니다.\n",
    "\n",
    "class method\n",
    "- class method: class/instance에서 호출이 가능하며, instance 변수에 접근할 수 없습니다. (@classmethod 및 cls와 함께 함수를 선언해야 합니다.)\n",
    "- static method: class/instance에서 호출이 가능하며, class/instance 변수에 접근할 수 없습니다. (@staticmethod와 함께 함수를 선언해야 합니다.)\n",
    "- instance method: instance에서 호출이 가능합니다. (self와 함께 함수를 선언해야 합니다.)\n",
    "\n",
    "생성자\n",
    "- 생성자를 통해 instance를 초기화 할 수 있습니다.\n",
    "- 생성자의 이름은 __init__입니다.\n",
    "\n",
    "cls\n",
    "- cls는 class 스스로를 가리킵니다.\n",
    "\n",
    "self\n",
    "- self는 instance 스스로를 가리킵니다.\n",
    "\n",
    "=== class inheritance ===\n",
    "- class 변수가 child class 및 child instance에 상속됩니다.\n",
    "- instance 변수가 child class 및 child instance에 상속됩니다.\n",
    "- static / class method가 child class 및 child instance에 상속됩니다.\n",
    "- instance method가 child instance에 상속됩니다.\n",
    "\n",
    "super()\n",
    "- super()는 parent class 입니다.\n",
    "\n",
    "overriding\n",
    "- parent class에서 상속받은 method를 덮어씁니다.\n",
    "\"\"\"\n",
    "\n",
    "class Vehicle():\n",
    "    haswheel = True\n",
    "    \n",
    "    def __init__(self, shape):\n",
    "        self.shape = shape\n",
    "    \n",
    "    @staticmethod\n",
    "    def ignite():\n",
    "        print(\"덜덜덜\")\n",
    "\n",
    "    def shapeinfo(self):\n",
    "        print(f\"해당 vehicle은 {self.shape} 입니다.\")\n",
    "        \n",
    "    def sound(self):\n",
    "        print(\"부르릉\")\n",
    "\n",
    "class Car(Vehicle):\n",
    "    wheel = 4 # class 변수\n",
    "    fuel = \"gasoline\" # class 변수\n",
    "    \n",
    "    def __init__(self, engine, color):\n",
    "        super().__init__(\"rectangle\")\n",
    "        self.engine = engine # instance 변수\n",
    "        self.color = color # instance 변수\n",
    "    \n",
    "    @staticmethod\n",
    "    def blow(): # static method\n",
    "        print(\"빵빵\")\n",
    "    \n",
    "    @classmethod\n",
    "    def basicinfo(cls): # class method\n",
    "        print(f\"해당차량은 {cls.wheel} {cls.fuel} 입니다.\")\n",
    "    \n",
    "    def info(self): # instance method\n",
    "        print(f\"해당차량은 {self.wheel} {self.fuel} {self.engine} {self.color} 입니다.\")\n",
    "\n",
    "    def sound(self): # overriding\n",
    "        print(\"와와앙\")\n",
    "\n",
    "# === class 만들기 ===\n",
    "print(\"\\n=== class 만들기 ===\")\n",
    "mycar = Car(\"1.4t\", \"blue\")\n",
    "print(f\"myCar의 engine/color는 {mycar.engine} {mycar.color}\")\n",
    "print(f\"myCar의 wheel은 {mycar.wheel}\")\n",
    "print(f\"Car의 wheel은 {Car.wheel}\")\n",
    "Car.blow()\n",
    "mycar.blow()\n",
    "mycar.info()\n",
    "Car.basicinfo()\n",
    "mycar.basicinfo()\n",
    "\n",
    "# === class inheritance ===\n",
    "print(\"\\n=== class inheritance ===\")\n",
    "myvehicle = Vehicle(\"rectangle\")\n",
    "print(f\"mycar의 shape는 {mycar.shape}\")\n",
    "print(f\"Vehicle의 haswheel은 {Vehicle.haswheel}\")\n",
    "print(f\"Car의 haswheel은 {Car.haswheel}\")\n",
    "print(f\"mycar의 haswheel은 {mycar.haswheel}\")\n",
    "Vehicle.ignite()\n",
    "Car.ignite()\n",
    "mycar.ignite()\n",
    "mycar.shapeinfo()\n",
    "myvehicle.sound()\n",
    "mycar.sound()\n",
    "\n",
    "print(Car, mycar)"
   ]
  },
  {
   "cell_type": "code",
   "execution_count": null,
   "id": "8b3cc445",
   "metadata": {},
   "outputs": [],
   "source": [
    "# magic method"
   ]
  },
  {
   "cell_type": "code",
   "execution_count": null,
   "id": "a22d0b54",
   "metadata": {},
   "outputs": [],
   "source": [
    "# abstract class"
   ]
  }
 ],
 "metadata": {
  "kernelspec": {
   "display_name": "Python 3",
   "language": "python",
   "name": "python3"
  },
  "language_info": {
   "codemirror_mode": {
    "name": "ipython",
    "version": 3
   },
   "file_extension": ".py",
   "mimetype": "text/x-python",
   "name": "python",
   "nbconvert_exporter": "python",
   "pygments_lexer": "ipython3",
   "version": "3.8.8"
  }
 },
 "nbformat": 4,
 "nbformat_minor": 5
}
