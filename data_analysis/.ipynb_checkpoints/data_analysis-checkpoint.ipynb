{
 "cells": [
  {
   "cell_type": "code",
   "execution_count": null,
   "id": "9329917f",
   "metadata": {},
   "outputs": [],
   "source": [
    "import csv"
   ]
  },
  {
   "cell_type": "code",
   "execution_count": null,
   "id": "b913df69",
   "metadata": {},
   "outputs": [],
   "source": [
    "# csv 읽기\n",
    "f = open(\"./data/suwon_temperature.csv\", \"r\", encoding=\"utf-8\")\n",
    "data = csv.reader(f, delimiter=\",\")\n",
    "print(data)\n",
    "header = next(data)\n",
    "print(header)\n",
    "\n",
    "for row in data:\n",
    "    print(row)\n",
    "\n",
    "f.close()"
   ]
  },
  {
   "cell_type": "code",
   "execution_count": null,
   "id": "d4f27868",
   "metadata": {},
   "outputs": [],
   "source": [
    "# 제일 더운날 찾기\n",
    "f = open(\"./data/suwon_temperature.csv\", \"r\", encoding=\"utf-8\")\n",
    "data = csv.reader(f, delimiter=\",\")\n",
    "header = next(data)\n",
    "\n",
    "max_temp = 0\n",
    "\n",
    "for row in data:\n",
    "    temp = float(row[-1])\n",
    "    max_date = row[0]\n",
    "\n",
    "    if temp == \"\":\n",
    "        temp = -999\n",
    "    if max_temp < temp:\n",
    "        max_temp = temp\n",
    "\n",
    "print(f\"제일 더운날은 {max_date}의 {max_temp}입니다.\")\n",
    "f.close()"
   ]
  }
 ],
 "metadata": {
  "kernelspec": {
   "display_name": "Python 3",
   "language": "python",
   "name": "python3"
  },
  "language_info": {
   "codemirror_mode": {
    "name": "ipython",
    "version": 3
   },
   "file_extension": ".py",
   "mimetype": "text/x-python",
   "name": "python",
   "nbconvert_exporter": "python",
   "pygments_lexer": "ipython3",
   "version": "3.8.8"
  }
 },
 "nbformat": 4,
 "nbformat_minor": 5
}
