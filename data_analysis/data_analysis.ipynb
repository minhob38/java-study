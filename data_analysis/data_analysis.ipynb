{
 "cells": [
  {
   "cell_type": "code",
   "execution_count": null,
   "id": "adb1999f",
   "metadata": {},
   "outputs": [],
   "source": [
    "import csv # csv 가져오기\n",
    "import matplotlib.pyplot as plt # matplotlib pyplot 가져오기\n",
    "import random # random 가져오기"
   ]
  },
  {
   "cell_type": "code",
   "execution_count": null,
   "id": "50e3ab32",
   "metadata": {},
   "outputs": [],
   "source": [
    "# csv 읽기\n",
    "f = open(\"./data/suwon_temperature.csv\", \"r\", encoding=\"utf-8\")\n",
    "data = csv.reader(f, delimiter=\",\")\n",
    "print(data)\n",
    "header = next(data)\n",
    "print(header)\n",
    "\n",
    "for row in data:\n",
    "    print(row)\n",
    "\n",
    "f.close()"
   ]
  },
  {
   "cell_type": "code",
   "execution_count": null,
   "id": "45bbfa93",
   "metadata": {},
   "outputs": [],
   "source": [
    "# 제일 더운날 찾기\n",
    "f = open(\"./data/suwon_temperature.csv\", \"r\", encoding=\"utf-8\")\n",
    "data = csv.reader(f, delimiter=\",\")\n",
    "header = next(data)\n",
    "\n",
    "max_temp = 0\n",
    "\n",
    "for row in data:\n",
    "    temp = float(row[-1])\n",
    "    max_date = row[0]\n",
    "\n",
    "    if temp == \"\":\n",
    "        temp = -999\n",
    "    if max_temp < temp:\n",
    "        max_temp = temp\n",
    "\n",
    "print(f\"제일 더운날은 {max_date}의 {max_temp}입니다.\")\n",
    "f.close()"
   ]
  },
  {
   "cell_type": "code",
   "execution_count": null,
   "id": "5d06e47c",
   "metadata": {},
   "outputs": [],
   "source": [
    "# plot 그리기\n",
    "plt.plot([10, 20, 30, 40])\n",
    "plt.show()"
   ]
  },
  {
   "cell_type": "code",
   "execution_count": null,
   "id": "8a4e68d4",
   "metadata": {},
   "outputs": [],
   "source": [
    "# plot 그리기\n",
    "plt.plot([1, 2, 3, 4], [15, 13, 25, 8])\n",
    "plt.show()"
   ]
  },
  {
   "cell_type": "code",
   "execution_count": null,
   "id": "b0b6671e",
   "metadata": {},
   "outputs": [],
   "source": [
    "# plot 그리기 (title, legend 넣기)\n",
    "plt.title(\"linear plot\")\n",
    "plt.plot([0, 1, 2, 3, 4], [0, 1, 2, 3, 4], label=\"increase\")\n",
    "plt.plot([0, 1, 2, 3, 4], [0, -1, -2, -3, -4], label=\"decrease\")\n",
    "plt.legend(loc=2)\n",
    "plt.show()"
   ]
  },
  {
   "cell_type": "code",
   "execution_count": null,
   "id": "dbbf10ea",
   "metadata": {},
   "outputs": [],
   "source": [
    "# plot 그리기 (color, line style 넣기)\n",
    "plt.title(\"linear plot\")\n",
    "plt.plot([0, 1, 2, 3, 4], [0, 1, 2, 3, 4], color=\"blue\", linestyle=\"--\", label=\"increase\")\n",
    "plt.plot([0, 1, 2, 3, 4], [0, -1, -2, -3, -4], color=\"r\", linestyle=\":\", label=\"decrease\")\n",
    "plt.legend(loc=2)\n",
    "plt.show()"
   ]
  },
  {
   "cell_type": "code",
   "execution_count": null,
   "id": "44b50e30",
   "metadata": {},
   "outputs": [],
   "source": [
    "# plot 그리기 (marker 넣기)\n",
    "plt.title(\"linear plot\")\n",
    "plt.plot([0, 1, 2, 3, 4], [0, 1, 2, 3, 4], \"b.--\", label=\"increase\")\n",
    "plt.plot([0, 1, 2, 3, 4], [0, -1, -2, -3, -4], color=\"r\", marker=\"^\", linestyle=\":\", label=\"decrease\")\n",
    "plt.legend(loc=2)\n",
    "plt.show()"
   ]
  },
  {
   "cell_type": "code",
   "execution_count": null,
   "id": "8139c08f",
   "metadata": {},
   "outputs": [],
   "source": [
    "# 최고기온/최저기온 plot 그리기\n",
    "f = open(\"./data/suwon_temperature.csv\", \"r\", encoding=\"utf-8\")\n",
    "data = csv.reader(f, delimiter=\",\")\n",
    "header = next(data)\n",
    "\n",
    "years = []\n",
    "high_temps = []\n",
    "low_temps = []\n",
    "\n",
    "for row in data:\n",
    "    if row[3] != \"\" and row[4] != \"\":\n",
    "        date = row[0].split(\"-\")\n",
    "        y = date[0]\n",
    "        m = date[1]\n",
    "        d = date[2]\n",
    "        if m == \"10\" and d == \"12\":\n",
    "            years.append(y)\n",
    "            high_temps.append(float(row[4]))\n",
    "            low_temps.append(float(row[3]))\n",
    "\n",
    "plt.title(\"my birthday temperature 10/12\")\n",
    "plt.plot(years, high_temps, \"r.-\", label=\"high\")\n",
    "plt.plot(years, low_temps, \"b.:\", label=\"low\")\n",
    "plt.legend(loc=2)\n",
    "plt.show()\n",
    "\n",
    "f.close()"
   ]
  },
  {
   "cell_type": "code",
   "execution_count": null,
   "id": "8dbf874f",
   "metadata": {},
   "outputs": [],
   "source": [
    "# 최고기온 histogram 그리기\n",
    "f = open(\"./data/suwon_temperature.csv\", \"r\", encoding=\"utf-8\")\n",
    "data = csv.reader(f, delimiter=\",\")\n",
    "header = next(data)\n",
    "\n",
    "years = []\n",
    "high_temps = []\n",
    "low_temps = []\n",
    "\n",
    "for row in data:\n",
    "    if row[3] != \"\" and row[4] != \"\":\n",
    "        high_temps.append(float(row[4]))\n",
    "        low_temps.append(float(row[3]))\n",
    "\n",
    "plt.title(\"high temperature\")\n",
    "plt.hist(high_temps, color=\"red\")\n",
    "plt.show()\n",
    "\n",
    "plt.title(\"low temperature\")\n",
    "plt.hist(low_temps, color=\"blue\")\n",
    "plt.show()\n",
    "\n",
    "f.close()"
   ]
  },
  {
   "cell_type": "code",
   "execution_count": null,
   "id": "c145b882",
   "metadata": {},
   "outputs": [],
   "source": [
    "# 주사위 굴리기 histogram 그리기\n",
    "dices = []\n",
    "\n",
    "for i in range(1000):\n",
    "    dices.append(random.randint(1, 6))\n",
    "    \n",
    "plt.title(\"dice result\")\n",
    "plt.hist(dices, bins=6, color=\"skyblue\")\n",
    "plt.show()\n"
   ]
  },
  {
   "cell_type": "code",
   "execution_count": null,
   "id": "32fca2de",
   "metadata": {},
   "outputs": [],
   "source": [
    "# 1월/8월 평균온도비교 histogram\n",
    "f = open(\"./data/suwon_temperature.csv\", \"r\", encoding=\"utf-8\")\n",
    "data = csv.reader(f, delimiter=\",\")\n",
    "header = next(data)\n",
    "\n",
    "jan_temps = []\n",
    "aug_temps = []\n",
    "\n",
    "for row in data:\n",
    "    if row[2] != \"\":\n",
    "        date = row[0].split(\"-\")\n",
    "        m = date[1]\n",
    "\n",
    "        if m == \"01\": jan_temps.append(float(row[2]))\n",
    "        if m == \"08\": aug_temps.append(float(row[2]))\n",
    "\n",
    "plt.title(\"januray and august's average temperature\")\n",
    "plt.hist(jan_temps, bins=50, color=\"blue\", label=\"jan\")\n",
    "plt.hist(aug_temps, bins=50, color=\"red\", label=\"aug\")\n",
    "plt.legend()\n",
    "plt.show()\n",
    "\n",
    "f.close()"
   ]
  },
  {
   "cell_type": "code",
   "execution_count": null,
   "id": "428ea7c8",
   "metadata": {},
   "outputs": [],
   "source": []
  }
 ],
 "metadata": {
  "kernelspec": {
   "display_name": "Python 3",
   "language": "python",
   "name": "python3"
  },
  "language_info": {
   "codemirror_mode": {
    "name": "ipython",
    "version": 3
   },
   "file_extension": ".py",
   "mimetype": "text/x-python",
   "name": "python",
   "nbconvert_exporter": "python",
   "pygments_lexer": "ipython3",
   "version": "3.8.8"
  }
 },
 "nbformat": 4,
 "nbformat_minor": 5
}
